{
 "cells": [
  {
   "cell_type": "markdown",
   "metadata": {},
   "source": [
    "---\n",
    "# Cairo University Faculty of Engineering\n",
    "## Machine Learning \n",
    "## Assignment 3 _ part 2 \n",
    "\n",
    "---\n",
    "\n",
    "Please write your full name here\n",
    "- **Name** : \"Andrew Mushen\"\n",
    "- **BN**   : 15"
   ]
  },
  {
   "cell_type": "markdown",
   "metadata": {},
   "source": [
    "## for jupyter"
   ]
  },
  {
   "cell_type": "code",
   "execution_count": 1,
   "metadata": {},
   "outputs": [],
   "source": [
    "#%run tree_part2_functions.ipynb"
   ]
  },
  {
   "cell_type": "markdown",
   "metadata": {},
   "source": [
    "## for any other ide\n",
    "pls run this in your CMD \n",
    "## pip install import-ipynb"
   ]
  },
  {
   "cell_type": "code",
   "execution_count": 2,
   "metadata": {},
   "outputs": [
    {
     "name": "stdout",
     "output_type": "stream",
     "text": [
      "importing Jupyter notebook from tree_part2_functions_NB.ipynb\n"
     ]
    }
   ],
   "source": [
    "import import_ipynb\n",
    "import tree_part2_functions_NB\n",
    "from tree_part2_functions_NB import train_test_split, decision_tree_algorthim, print_tree, get_accuracy\n"
   ]
  },
  {
   "cell_type": "markdown",
   "metadata": {},
   "source": [
    "## or just use this import the .py "
   ]
  },
  {
   "cell_type": "markdown",
   "metadata": {},
   "source": [
    "## importing tree functions"
   ]
  },
  {
   "cell_type": "code",
   "execution_count": 3,
   "metadata": {},
   "outputs": [],
   "source": [
    "#import tree_part2_functions\n",
    "#from tree_part2_functions import train_test_split, decision_tree_algorthim, print_tree, get_accuracy"
   ]
  },
  {
   "cell_type": "markdown",
   "metadata": {},
   "source": [
    "## Data preparation"
   ]
  },
  {
   "cell_type": "code",
   "execution_count": 4,
   "metadata": {},
   "outputs": [
    {
     "data": {
      "text/html": [
       "<div>\n",
       "<style scoped>\n",
       "    .dataframe tbody tr th:only-of-type {\n",
       "        vertical-align: middle;\n",
       "    }\n",
       "\n",
       "    .dataframe tbody tr th {\n",
       "        vertical-align: top;\n",
       "    }\n",
       "\n",
       "    .dataframe thead th {\n",
       "        text-align: right;\n",
       "    }\n",
       "</style>\n",
       "<table border=\"1\" class=\"dataframe\">\n",
       "  <thead>\n",
       "    <tr style=\"text-align: right;\">\n",
       "      <th></th>\n",
       "      <th>Early_registration</th>\n",
       "      <th>Finished_homework_II</th>\n",
       "      <th>Senior</th>\n",
       "      <th>Likes_coffe</th>\n",
       "      <th>Liked_the_last_homework</th>\n",
       "      <th>label</th>\n",
       "    </tr>\n",
       "  </thead>\n",
       "  <tbody>\n",
       "    <tr>\n",
       "      <th>0</th>\n",
       "      <td>1</td>\n",
       "      <td>1</td>\n",
       "      <td>0</td>\n",
       "      <td>0</td>\n",
       "      <td>1</td>\n",
       "      <td>1</td>\n",
       "    </tr>\n",
       "    <tr>\n",
       "      <th>1</th>\n",
       "      <td>1</td>\n",
       "      <td>1</td>\n",
       "      <td>1</td>\n",
       "      <td>0</td>\n",
       "      <td>1</td>\n",
       "      <td>1</td>\n",
       "    </tr>\n",
       "    <tr>\n",
       "      <th>2</th>\n",
       "      <td>0</td>\n",
       "      <td>0</td>\n",
       "      <td>1</td>\n",
       "      <td>0</td>\n",
       "      <td>0</td>\n",
       "      <td>0</td>\n",
       "    </tr>\n",
       "    <tr>\n",
       "      <th>3</th>\n",
       "      <td>0</td>\n",
       "      <td>1</td>\n",
       "      <td>1</td>\n",
       "      <td>0</td>\n",
       "      <td>1</td>\n",
       "      <td>0</td>\n",
       "    </tr>\n",
       "    <tr>\n",
       "      <th>4</th>\n",
       "      <td>0</td>\n",
       "      <td>1</td>\n",
       "      <td>1</td>\n",
       "      <td>0</td>\n",
       "      <td>0</td>\n",
       "      <td>1</td>\n",
       "    </tr>\n",
       "    <tr>\n",
       "      <th>5</th>\n",
       "      <td>0</td>\n",
       "      <td>0</td>\n",
       "      <td>1</td>\n",
       "      <td>1</td>\n",
       "      <td>1</td>\n",
       "      <td>1</td>\n",
       "    </tr>\n",
       "    <tr>\n",
       "      <th>6</th>\n",
       "      <td>1</td>\n",
       "      <td>0</td>\n",
       "      <td>0</td>\n",
       "      <td>0</td>\n",
       "      <td>1</td>\n",
       "      <td>0</td>\n",
       "    </tr>\n",
       "    <tr>\n",
       "      <th>7</th>\n",
       "      <td>0</td>\n",
       "      <td>1</td>\n",
       "      <td>0</td>\n",
       "      <td>1</td>\n",
       "      <td>1</td>\n",
       "      <td>1</td>\n",
       "    </tr>\n",
       "    <tr>\n",
       "      <th>8</th>\n",
       "      <td>0</td>\n",
       "      <td>0</td>\n",
       "      <td>1</td>\n",
       "      <td>0</td>\n",
       "      <td>1</td>\n",
       "      <td>1</td>\n",
       "    </tr>\n",
       "    <tr>\n",
       "      <th>9</th>\n",
       "      <td>1</td>\n",
       "      <td>0</td>\n",
       "      <td>0</td>\n",
       "      <td>0</td>\n",
       "      <td>0</td>\n",
       "      <td>0</td>\n",
       "    </tr>\n",
       "    <tr>\n",
       "      <th>10</th>\n",
       "      <td>1</td>\n",
       "      <td>1</td>\n",
       "      <td>1</td>\n",
       "      <td>0</td>\n",
       "      <td>0</td>\n",
       "      <td>1</td>\n",
       "    </tr>\n",
       "    <tr>\n",
       "      <th>11</th>\n",
       "      <td>0</td>\n",
       "      <td>1</td>\n",
       "      <td>1</td>\n",
       "      <td>1</td>\n",
       "      <td>1</td>\n",
       "      <td>0</td>\n",
       "    </tr>\n",
       "    <tr>\n",
       "      <th>12</th>\n",
       "      <td>0</td>\n",
       "      <td>0</td>\n",
       "      <td>0</td>\n",
       "      <td>0</td>\n",
       "      <td>1</td>\n",
       "      <td>0</td>\n",
       "    </tr>\n",
       "    <tr>\n",
       "      <th>13</th>\n",
       "      <td>1</td>\n",
       "      <td>0</td>\n",
       "      <td>0</td>\n",
       "      <td>1</td>\n",
       "      <td>0</td>\n",
       "      <td>1</td>\n",
       "    </tr>\n",
       "  </tbody>\n",
       "</table>\n",
       "</div>"
      ],
      "text/plain": [
       "    Early_registration  Finished_homework_II  Senior  Likes_coffe  \\\n",
       "0                    1                     1       0            0   \n",
       "1                    1                     1       1            0   \n",
       "2                    0                     0       1            0   \n",
       "3                    0                     1       1            0   \n",
       "4                    0                     1       1            0   \n",
       "5                    0                     0       1            1   \n",
       "6                    1                     0       0            0   \n",
       "7                    0                     1       0            1   \n",
       "8                    0                     0       1            0   \n",
       "9                    1                     0       0            0   \n",
       "10                   1                     1       1            0   \n",
       "11                   0                     1       1            1   \n",
       "12                   0                     0       0            0   \n",
       "13                   1                     0       0            1   \n",
       "\n",
       "    Liked_the_last_homework  label  \n",
       "0                         1      1  \n",
       "1                         1      1  \n",
       "2                         0      0  \n",
       "3                         1      0  \n",
       "4                         0      1  \n",
       "5                         1      1  \n",
       "6                         1      0  \n",
       "7                         1      1  \n",
       "8                         1      1  \n",
       "9                         0      0  \n",
       "10                        0      1  \n",
       "11                        1      0  \n",
       "12                        1      0  \n",
       "13                        0      1  "
      ]
     },
     "execution_count": 4,
     "metadata": {},
     "output_type": "execute_result"
    }
   ],
   "source": [
    "import random\n",
    "import numpy as np\n",
    "import pandas as pd\n",
    "from pprint import pprint\n",
    "\n",
    "df = pd.read_csv('tree task.csv', sep=';')\n",
    "df =df.rename(columns={\"A\":\"label\"})\n",
    "\n",
    "df\n"
   ]
  },
  {
   "cell_type": "markdown",
   "metadata": {},
   "source": [
    "## building the best model using tree funcitons"
   ]
  },
  {
   "cell_type": "code",
   "execution_count": 5,
   "metadata": {},
   "outputs": [
    {
     "name": "stdout",
     "output_type": "stream",
     "text": [
      "random_state 0 train_size  0.65 best tree maxdepth 2\n",
      "my model train score 0.4444444444444444\n",
      "my model train score 0.8\n"
     ]
    }
   ],
   "source": [
    "best_state = 0\n",
    "best_size = 0\n",
    "best_depth = 0\n",
    "best_train_score = 0\n",
    "best_test_score = 0\n",
    "test = 0\n",
    "\n",
    "for state in range(0, 5):\n",
    "    for size in [0.4, 0.45, 0.5, 0.55, 0.6, 0.65, 0.7, 0.75, 0.8, 0.85, 0.9]:\n",
    "        for depth in [1, 2, 3, 4]:\n",
    "\n",
    "            train_df, test_df = train_test_split(\n",
    "                df, train_size=size, random_state=0)\n",
    "            tree = decision_tree_algorthim(train_df, max_depth=depth)\n",
    "            train_score = get_accuracy(train_df, tree)\n",
    "            test_score = get_accuracy(test_df, tree)\n",
    "            if (0.95 >= test_score > best_test_score):\n",
    "                best_state = state\n",
    "                best_size = size\n",
    "                best_depth = depth\n",
    "                best_train_score = train_score\n",
    "                best_test_score = test_score\n",
    "                #print(state, size, depth, train_score, train_score)\n",
    "\n",
    "\n",
    "print(\"random_state\", best_state, \"train_size \",\n",
    "      best_size, \"best tree maxdepth\", best_depth)\n",
    "\n",
    "train_df, test_df = train_test_split(df, train_size=best_size)\n",
    "\n",
    "mytree = decision_tree_algorthim(train_df, max_depth=best_depth)\n",
    "\n",
    "train_score = get_accuracy(train_df, mytree)\n",
    "test_score = get_accuracy(test_df, mytree)\n",
    "print(\"my model train score\", train_score)\n",
    "print(\"my model train score\", test_score)\n"
   ]
  },
  {
   "cell_type": "markdown",
   "metadata": {},
   "source": [
    "## applying SKlearn to same data "
   ]
  },
  {
   "cell_type": "code",
   "execution_count": 6,
   "metadata": {},
   "outputs": [
    {
     "name": "stdout",
     "output_type": "stream",
     "text": [
      "SKlearn train score 0.7777777777777778\n",
      "SKlearn test score 0.8\n"
     ]
    }
   ],
   "source": [
    "from sklearn.tree import DecisionTreeClassifier\n",
    "from sklearn.model_selection import train_test_split\n",
    "\n",
    "\n",
    "xtrain = train_df[train_df.columns[:-1]]\n",
    "ytrain = train_df[train_df.columns[-1]]\n",
    "\n",
    "xtest = test_df[test_df.columns[:-1]]\n",
    "ytest = test_df[test_df.columns[-1]]\n",
    "\n",
    "\n",
    "tree_clf = DecisionTreeClassifier(\n",
    "    max_depth=best_depth, random_state=best_state, criterion='entropy')\n",
    "tree_clf.fit(xtrain, ytrain)\n",
    "\n",
    "print(\"SKlearn train score\", tree_clf.score(xtrain, ytrain))\n",
    "\n",
    "print(\"SKlearn test score\", tree_clf.score(xtest, ytest))\n"
   ]
  },
  {
   "cell_type": "markdown",
   "metadata": {},
   "source": [
    "## printing the tree"
   ]
  },
  {
   "cell_type": "code",
   "execution_count": 7,
   "metadata": {},
   "outputs": [
    {
     "data": {
      "image/png": "[encoded data removed]",
      "text/plain": [
       "<Figure size 720x720 with 1 Axes>"
      ]
     },
     "metadata": {
      "needs_background": "light"
     },
     "output_type": "display_data"
    }
   ],
   "source": [
    "import matplotlib.pyplot as plt\n",
    "\n",
    "from sklearn import tree\n",
    "\n",
    "\n",
    "text_rep = tree.export_text(tree_clf)\n",
    "\n",
    "fig = plt.figure(figsize=(10, 10))\n",
    "_ = tree.plot_tree(tree_clf,\n",
    "                   feature_names=df.columns[:-1],\n",
    "                   class_names=('failed', 'passed'),\n",
    "                   filled=True)\n"
   ]
  },
  {
   "cell_type": "code",
   "execution_count": 8,
   "metadata": {},
   "outputs": [
    {
     "name": "stdout",
     "output_type": "stream",
     "text": [
      "{'Likes_coffe == 1 ': [{'Finished_homework_II == 1 ': [0, 1]}, 1]}\n"
     ]
    }
   ],
   "source": [
    "print_tree(mytree)"
   ]
  }
 ],
 "metadata": {
  "interpreter": {
   "hash": "fbc768028c3e6ead51d9a200ddcb2ec858ae62844dcd1994729a8279be9b48f2"
  },
  "kernelspec": {
   "display_name": "Python 3.10.0 64-bit",
   "language": "python",
   "name": "python3"
  },
  "language_info": {
   "codemirror_mode": {
    "name": "ipython",
    "version": 3
   },
   "file_extension": ".py",
   "mimetype": "text/x-python",
   "name": "python",
   "nbconvert_exporter": "python",
   "pygments_lexer": "ipython3",
   "version": "3.10.0"
  },
  "orig_nbformat": 4
 },
 "nbformat": 4,
 "nbformat_minor": 2
}
